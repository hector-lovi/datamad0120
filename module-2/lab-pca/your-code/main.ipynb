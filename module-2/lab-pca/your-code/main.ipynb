{
 "cells": [
  {
   "cell_type": "markdown",
   "metadata": {},
   "source": [
    "# Before your start:\n",
    "- Read the README.md file\n",
    "- Comment as much as you can and use the resources (README.md file)\n",
    "- Happy learning!"
   ]
  },
  {
   "cell_type": "code",
   "execution_count": 1,
   "metadata": {},
   "outputs": [],
   "source": [
    "# Run this code:\n",
    "%matplotlib inline\n",
    "\n",
    "import matplotlib.pyplot as plt"
   ]
  },
  {
   "cell_type": "code",
   "execution_count": 2,
   "metadata": {},
   "outputs": [],
   "source": [
    "# Import numpy and pandas:\n",
    "import numpy as np\n",
    "import pandas as pd"
   ]
  },
  {
   "cell_type": "markdown",
   "metadata": {},
   "source": [
    "# Challenge 1 - Reading and Standardizing the Data\n",
    "\n",
    "In this challenge we will work with image data and reduce the dimensions of the data to create a 2 dimensional plot. While we have not worked much with image data before, it can be represented as a numpy array where each pixel is assigned a numeric value. In this lesson, we will look at a dataset of cats and a dataset of dogs and see whether reducing them to two dimensions allows us to see if the data is separable. We will start by loading and processing the data. Run the cell below to load the two csv files and convert them into numpy arrays."
   ]
  },
  {
   "cell_type": "code",
   "execution_count": 3,
   "metadata": {
    "scrolled": true
   },
   "outputs": [],
   "source": [
    "# Run this code\n",
    "\n",
    "cats = np.array(pd.read_csv(\"https://raw.githubusercontent.com/bioramble/pca/master/cat.csv\", header=None))\n",
    "dogs = np.array(pd.read_csv(\"https://raw.githubusercontent.com/bioramble/pca/master/dog.csv\", header=None))"
   ]
  },
  {
   "cell_type": "markdown",
   "metadata": {},
   "source": [
    "Next, we'll examine the shape of both the cats and the dogs arrays. Print out both shapes below."
   ]
  },
  {
   "cell_type": "code",
   "execution_count": 4,
   "metadata": {},
   "outputs": [
    {
     "name": "stdout",
     "output_type": "stream",
     "text": [
      "(4096, 80)\n",
      "(4096, 80)\n"
     ]
    }
   ],
   "source": [
    "# Your code here:\n",
    "print(cats.shape)\n",
    "print(dogs.shape)\n"
   ]
  },
  {
   "cell_type": "markdown",
   "metadata": {},
   "source": [
    "What this means is that both arrays contain 80 images each (the number of columns). Each image is comprised of 64x64 pixels (so a total of 4096 pixels per image). The images have been flattened such that all 4096 are in a single row.\n",
    "\n",
    "Print out column 0 of the cats array to see what the pixels values look like."
   ]
  },
  {
   "cell_type": "code",
   "execution_count": 5,
   "metadata": {},
   "outputs": [
    {
     "name": "stdout",
     "output_type": "stream",
     "text": [
      "[ 64  23 250 137  55 173  18 134  19  47 109 164  41  78 108 108 247 105\n",
      " 158  54 103   4  23 102 239  72  42  21 168 109 112 177  22 233  15 236\n",
      " 250 137  32   5 178 109  24 107  53 241 226 143   5 136  98 100  89  66\n",
      " 228  92 255  88 230  56 160  69   6  24 195 183 239  35 154 154 122  18\n",
      "  87 106 174  69  28  60 223 101]\n"
     ]
    }
   ],
   "source": [
    "# Your code here:\n",
    "print(cats[0])\n"
   ]
  },
  {
   "cell_type": "markdown",
   "metadata": {},
   "source": [
    "Using `matplotlib` we can plot a single cat or a single dog. We do this by reshaping the vector back to a 64x64 image and then using the `imshow` function.\n",
    "\n",
    "Run the code below to look at the first dog and the first cat."
   ]
  },
  {
   "cell_type": "code",
   "execution_count": 6,
   "metadata": {},
   "outputs": [
    {
     "data": {
      "text/plain": [
       "<matplotlib.image.AxesImage at 0x112dfc850>"
      ]
     },
     "execution_count": 6,
     "metadata": {},
     "output_type": "execute_result"
    },
    {
     "data": {
      "image/png": "[encoded data removed]",
      "text/plain": [
       "<Figure size 432x288 with 1 Axes>"
      ]
     },
     "metadata": {
      "needs_background": "light"
     },
     "output_type": "display_data"
    }
   ],
   "source": [
    "# Run this code:\n",
    "\n",
    "fig, ax = plt.subplots()\n",
    "ax.imshow(cats[::-1,0].reshape(64, 64).T, cmap=plt.cm.bone, interpolation='nearest') "
   ]
  },
  {
   "cell_type": "code",
   "execution_count": 7,
   "metadata": {},
   "outputs": [
    {
     "data": {
      "text/plain": [
       "<matplotlib.image.AxesImage at 0x113a02a90>"
      ]
     },
     "execution_count": 7,
     "metadata": {},
     "output_type": "execute_result"
    },
    {
     "data": {
      "image/png": "[encoded data removed]",
      "text/plain": [
       "<Figure size 432x288 with 1 Axes>"
      ]
     },
     "metadata": {
      "needs_background": "light"
     },
     "output_type": "display_data"
    }
   ],
   "source": [
    "# Run this code:\n",
    "\n",
    "fig, ax = plt.subplots()\n",
    "ax.imshow(dogs[::-1,0].reshape(64, 64).T, cmap=plt.cm.bone, interpolation='nearest') "
   ]
  },
  {
   "cell_type": "markdown",
   "metadata": {},
   "source": [
    "Next, we would like to create a standardization function. This function will find the mean and standard deviation of each image. We subtract the mean from each pixel and divide each pixel by the standard deviation. Write the function below.\n",
    "\n",
    "Hint: To find the mean and standard deviation of each image, use `numpy`'s version of mean and stadnard deviation and use `axis=0`."
   ]
  },
  {
   "cell_type": "code",
   "execution_count": 8,
   "metadata": {},
   "outputs": [],
   "source": [
    "def standardize(x):\n",
    "    #This function takes as input a numpy array and returns a stadardized numpy array of the same dimensions.\n",
    "    #Sample input: np.array([[1,2,3],[4,5,6]])\n",
    "    #Sample output: np.array([[-1,-1,-1],[1,1,1]])\n",
    "    \n",
    "    # Your code here:\n",
    "    mean = np.mean(x)\n",
    "    std = np.std(x)\n",
    "    return (x - mean)/std"
   ]
  },
  {
   "cell_type": "markdown",
   "metadata": {},
   "source": [
    "Now, use the `np.concatenate` function to combine the cats and dogs arrays. Use `axis=1` to combine the two correctly. Make sure to put dogs first."
   ]
  },
  {
   "cell_type": "code",
   "execution_count": 9,
   "metadata": {},
   "outputs": [
    {
     "data": {
      "text/plain": [
       "array([[ 64,  23, 250, ...,   6,  30, 197],\n",
       "       [ 64,  23, 250, ...,  10,  69, 199],\n",
       "       [ 64,  20, 250, ...,   6,  69, 195],\n",
       "       ...,\n",
       "       [ 64,  31, 244, ...,   7, 163, 166],\n",
       "       [ 64,  23, 232, ...,  10, 140, 170],\n",
       "       [ 61,   9, 244, ...,   7, 140, 171]])"
      ]
     },
     "execution_count": 9,
     "metadata": {},
     "output_type": "execute_result"
    }
   ],
   "source": [
    "# Your code here:\n",
    "catsDogs = np.concatenate((cats, dogs), axis=1)\n",
    "catsDogs\n"
   ]
  },
  {
   "cell_type": "markdown",
   "metadata": {},
   "source": [
    "Standardize the concatenated array below."
   ]
  },
  {
   "cell_type": "code",
   "execution_count": 10,
   "metadata": {},
   "outputs": [
    {
     "data": {
      "text/plain": [
       "array([[-0.8469638 , -1.46743405,  1.96785246, ..., -1.7247022 ,\n",
       "        -1.3615001 ,  1.16578116],\n",
       "       [-0.8469638 , -1.46743405,  1.96785246, ..., -1.66416852,\n",
       "        -0.77129669,  1.196048  ],\n",
       "       [-0.8469638 , -1.51283431,  1.96785246, ..., -1.7247022 ,\n",
       "        -0.77129669,  1.13551432],\n",
       "       ...,\n",
       "       [-0.8469638 , -1.34636668,  1.87705194, ..., -1.70956878,\n",
       "         0.65124486,  0.69664512],\n",
       "       [-0.8469638 , -1.46743405,  1.69545089, ..., -1.66416852,\n",
       "         0.30317618,  0.7571788 ],\n",
       "       [-0.89236406, -1.67930194,  1.87705194, ..., -1.70956878,\n",
       "         0.30317618,  0.77231222]])"
      ]
     },
     "execution_count": 10,
     "metadata": {},
     "output_type": "execute_result"
    }
   ],
   "source": [
    "# Your code here:\n",
    "std_cd = standardize(catsDogs)\n",
    "std_cd\n"
   ]
  },
  {
   "cell_type": "markdown",
   "metadata": {},
   "source": [
    "# Challenge 2 - Using PCA\n",
    "\n",
    "Now that we have created a standardized matrix of cats and dogs, we'll find the two most important components in the data.\n",
    "\n",
    "Load the `PCA` function from `statsmodels` (read about this function [here](https://www.statsmodels.org/dev/generated/statsmodels.multivariate.pca.PCA.html)) and apply the function to our standarized data. Create a PCA model with two components."
   ]
  },
  {
   "cell_type": "code",
   "execution_count": 11,
   "metadata": {},
   "outputs": [
    {
     "data": {
      "text/plain": [
       "array([[0.02977581, 0.03592827],\n",
       "       [0.03020944, 0.03486312],\n",
       "       [0.03024206, 0.03550568],\n",
       "       ...,\n",
       "       [0.00529748, 0.01165574],\n",
       "       [0.0046119 , 0.01141205],\n",
       "       [0.00384231, 0.01182373]])"
      ]
     },
     "execution_count": 11,
     "metadata": {},
     "output_type": "execute_result"
    }
   ],
   "source": [
    "# Your code here:\n",
    "from statsmodels.multivariate.pca import PCA\n",
    "cd_pca = PCA(std_cd, ncomp=2)\n",
    "cd_pca.factors"
   ]
  },
  {
   "cell_type": "markdown",
   "metadata": {},
   "source": [
    "Use `numpy` to find to transpose the standardized pet array. This will help us compute the projection."
   ]
  },
  {
   "cell_type": "code",
   "execution_count": 12,
   "metadata": {},
   "outputs": [
    {
     "data": {
      "text/plain": [
       "array([[-0.8469638 , -0.8469638 , -0.8469638 , ..., -0.8469638 ,\n",
       "        -0.8469638 , -0.89236406],\n",
       "       [-1.46743405, -1.46743405, -1.51283431, ..., -1.34636668,\n",
       "        -1.46743405, -1.67930194],\n",
       "       [ 1.96785246,  1.96785246,  1.96785246, ...,  1.87705194,\n",
       "         1.69545089,  1.87705194],\n",
       "       ...,\n",
       "       [-1.7247022 , -1.66416852, -1.7247022 , ..., -1.70956878,\n",
       "        -1.66416852, -1.70956878],\n",
       "       [-1.3615001 , -0.77129669, -0.77129669, ...,  0.65124486,\n",
       "         0.30317618,  0.30317618],\n",
       "       [ 1.16578116,  1.196048  ,  1.13551432, ...,  0.69664512,\n",
       "         0.7571788 ,  0.77231222]])"
      ]
     },
     "execution_count": 12,
     "metadata": {},
     "output_type": "execute_result"
    }
   ],
   "source": [
    "# Your code here:\n",
    "std_cd = std_cd.transpose()\n",
    "std_cd"
   ]
  },
  {
   "cell_type": "markdown",
   "metadata": {},
   "source": [
    "Find the dot product of the transposed standardized pet matrix and the `factors` of the `PCA` model found above. This will be the projection onto 2 dimensions. This means that each cat and dog image will now only have two columns instead of 4096."
   ]
  },
  {
   "cell_type": "code",
   "execution_count": 13,
   "metadata": {},
   "outputs": [
    {
     "data": {
      "text/plain": [
       "array([[-1.50540347e+01,  1.36728217e+01],\n",
       "       [-4.14005674e+01,  8.50120041e-01],\n",
       "       [ 7.01371903e+01,  5.46474831e+00],\n",
       "       [ 2.66623614e+01, -8.68607763e-01],\n",
       "       [-2.62379333e+01,  1.52188034e+01],\n",
       "       [-1.96690602e+01,  3.10340307e+01],\n",
       "       [-3.50697222e+01, -2.51283850e+00],\n",
       "       [-4.04443159e+00,  1.31775299e+01],\n",
       "       [-4.41240051e+01,  7.93582193e+00],\n",
       "       [-2.42948715e+01,  1.98855805e+01],\n",
       "       [ 4.75366913e-02,  3.40131364e+00],\n",
       "       [ 4.72686933e+00,  3.62126574e+00],\n",
       "       [-5.29261014e+01,  1.01183173e+01],\n",
       "       [-2.58306241e+01,  1.01418267e+01],\n",
       "       [ 2.74768121e+01,  1.30819947e+01],\n",
       "       [-1.81350174e+01,  7.61569003e+00],\n",
       "       [ 2.28712815e+01,  8.61505888e+00],\n",
       "       [-2.74335833e+01,  8.64562383e+00],\n",
       "       [ 3.41333966e+01, -6.30147303e-01],\n",
       "       [-4.14600059e+01,  4.04725489e+00],\n",
       "       [ 9.48142191e+00,  1.05530177e+01],\n",
       "       [-4.04765459e+01, -2.12586339e+00],\n",
       "       [-3.18221137e+01, -1.16835823e+01],\n",
       "       [-2.75235237e+01, -2.59720174e+01],\n",
       "       [ 5.68713039e+01,  6.47858461e+00],\n",
       "       [-5.89691269e+00, -1.81442430e+01],\n",
       "       [-2.50516435e+01,  1.29086071e+01],\n",
       "       [-3.08125435e+01, -1.77491718e+01],\n",
       "       [ 1.68128167e+01,  1.96591786e+00],\n",
       "       [-1.48960528e+01,  7.42576388e+00],\n",
       "       [-1.64421593e+00,  1.11861624e+01],\n",
       "       [ 1.43372983e+01,  1.78880492e+01],\n",
       "       [-1.72602352e+01,  2.76803426e+01],\n",
       "       [ 7.21013497e+01,  1.52330563e+01],\n",
       "       [-3.68798745e+01, -1.50829314e+00],\n",
       "       [-5.31955330e+00, -8.37546828e+00],\n",
       "       [ 5.11348233e+01, -1.94373616e+00],\n",
       "       [-3.59121300e+01,  6.59869133e+00],\n",
       "       [-1.82789283e+01, -1.77496379e+01],\n",
       "       [-1.14497635e+01,  1.05592664e+01],\n",
       "       [-5.16128698e+00,  1.37234030e+01],\n",
       "       [-3.30293052e+01,  2.20845331e+01],\n",
       "       [-5.00259276e+01, -1.33282169e+01],\n",
       "       [-2.07471475e+01, -1.33526700e+01],\n",
       "       [-5.99026428e+01, -2.17442112e+01],\n",
       "       [ 1.69193249e+01,  7.53159952e+00],\n",
       "       [ 1.76613004e+01, -2.33793084e+00],\n",
       "       [ 3.25712851e+01,  1.12440416e+01],\n",
       "       [-5.26259739e+01, -5.08135082e+00],\n",
       "       [ 6.52862408e-01,  4.60598396e+00],\n",
       "       [-2.52332734e+01,  1.52766732e+01],\n",
       "       [-1.02351383e+01, -7.59666300e+00],\n",
       "       [-3.92708098e+01,  1.32639814e+01],\n",
       "       [-3.41576149e+01,  1.25441569e+01],\n",
       "       [ 1.29224671e+01,  1.42477267e+01],\n",
       "       [-2.56580782e+01,  1.18255802e+01],\n",
       "       [-4.64672637e+01,  2.82227322e+01],\n",
       "       [-1.39331566e+01, -6.60356137e+00],\n",
       "       [ 2.49182862e+01,  2.09404514e+01],\n",
       "       [-1.63695050e+01, -2.57407620e+01],\n",
       "       [-1.01184224e+00, -7.01203994e-01],\n",
       "       [-1.25622939e+01,  8.33775699e+00],\n",
       "       [-3.46017148e+01,  9.16892831e+00],\n",
       "       [-3.67556031e+01, -9.58160300e+00],\n",
       "       [ 2.38913430e+01,  2.27067646e+00],\n",
       "       [-5.53319881e+00,  1.45253380e+01],\n",
       "       [ 5.08335736e+01,  7.65729208e+00],\n",
       "       [-3.14147960e+00, -3.56256189e-01],\n",
       "       [ 1.12180706e+01,  3.30095297e+00],\n",
       "       [ 2.69396448e+01, -3.78656481e+00],\n",
       "       [ 1.07594040e+01,  2.46787279e+00],\n",
       "       [-2.96463943e+01, -1.01532424e+01],\n",
       "       [-6.98268335e+00,  9.17867776e+00],\n",
       "       [ 1.25716647e+00, -2.40297776e+00],\n",
       "       [ 1.05043267e+01, -6.25290930e-01],\n",
       "       [-1.71242292e+01, -1.21547534e+01],\n",
       "       [-2.75735326e+01, -1.98274381e+01],\n",
       "       [-2.69660994e+01, -7.58187734e+00],\n",
       "       [ 1.48222578e+01, -3.32654165e+00],\n",
       "       [-4.91469841e+00,  7.87339719e+00],\n",
       "       [ 3.70908844e+01,  1.28517467e+01],\n",
       "       [ 3.49827968e+01, -2.09386770e+01],\n",
       "       [-7.87270778e+00, -1.09449402e+01],\n",
       "       [ 3.45904159e+00, -2.24263816e+01],\n",
       "       [ 2.43538963e+01,  3.05269071e+00],\n",
       "       [-1.00236781e+01, -5.15397835e+01],\n",
       "       [ 1.75967551e+01, -1.05115726e+01],\n",
       "       [ 1.43126879e+01, -3.90700594e+01],\n",
       "       [ 9.59835189e+00, -2.99456406e+01],\n",
       "       [ 3.65226862e+01,  2.04204205e+00],\n",
       "       [ 2.94951968e-01, -2.99166186e+01],\n",
       "       [ 1.10053437e+01, -8.92368902e+00],\n",
       "       [ 5.25568580e+00, -1.03332028e+01],\n",
       "       [-1.51707668e+00, -8.91671820e+00],\n",
       "       [ 1.87997075e+01, -3.11707264e+01],\n",
       "       [ 1.16412610e+01, -2.22461265e+01],\n",
       "       [ 1.30462864e+01, -6.76725262e+00],\n",
       "       [ 3.30110112e+01, -1.79629008e+01],\n",
       "       [ 1.23740860e+01, -1.93197683e+01],\n",
       "       [ 1.54647161e+01, -4.44704116e+01],\n",
       "       [-3.38430065e+00, -3.34223590e+01],\n",
       "       [ 1.81752371e+00, -4.31479456e+01],\n",
       "       [ 8.06413766e+00, -1.25373770e+01],\n",
       "       [ 1.30280481e+01, -4.48854313e+01],\n",
       "       [ 2.71479648e+01, -3.07081795e+01],\n",
       "       [ 2.68809192e-01, -5.11939895e+01],\n",
       "       [-2.94482749e+00, -2.28646302e+01],\n",
       "       [ 6.37874548e-01, -1.63693200e+01],\n",
       "       [ 1.58298336e+01, -5.51011497e+01],\n",
       "       [ 8.95542132e+00, -2.28058679e+01],\n",
       "       [ 4.17780393e+00, -2.67328358e+01],\n",
       "       [ 6.60184598e+00, -2.41206016e+01],\n",
       "       [ 2.86471354e+01, -2.78195526e+01],\n",
       "       [ 1.24677062e+01, -3.35158186e+01],\n",
       "       [-9.56344273e+00, -5.02995607e+01],\n",
       "       [ 1.42877176e+01, -1.33866949e+01],\n",
       "       [-8.97039380e+00, -2.39468113e+01],\n",
       "       [ 1.25356660e+00, -2.81501683e+01],\n",
       "       [-6.74968597e+00, -4.41809802e+01],\n",
       "       [ 2.78763885e+01, -1.85183862e+01],\n",
       "       [ 1.47703657e+01, -3.47629313e+01],\n",
       "       [ 5.06864061e+00,  7.36860353e+00],\n",
       "       [-8.46430740e+00, -2.76105289e+01],\n",
       "       [ 1.41209721e+01, -2.52199882e+01],\n",
       "       [-7.33077594e+00, -1.46718403e+01],\n",
       "       [ 1.94932743e+01,  2.15919395e+01],\n",
       "       [ 3.27432098e+01,  1.03477751e+01],\n",
       "       [ 6.16699492e+00, -7.09442325e+00],\n",
       "       [ 1.70154810e+01,  1.31657972e+01],\n",
       "       [-1.60045024e+01, -3.33878656e+01],\n",
       "       [ 2.39098856e+01,  8.98456865e+00],\n",
       "       [ 3.11604154e+01,  2.27411991e+01],\n",
       "       [ 3.02509970e+00,  7.48977591e+00],\n",
       "       [-1.89613729e+01, -3.49881639e+01],\n",
       "       [-1.42763724e+01, -3.28813252e+00],\n",
       "       [-1.47968543e+01, -3.96132337e+00],\n",
       "       [ 2.11722698e+01,  4.52398239e+00],\n",
       "       [ 9.39703906e+00,  7.71675957e+00],\n",
       "       [-1.78830806e+01, -2.88751547e+01],\n",
       "       [-1.51946577e+00, -2.22502703e+01],\n",
       "       [ 6.58167889e+00, -3.32537945e+01],\n",
       "       [ 2.02652552e+01,  1.40306906e+01],\n",
       "       [ 3.01244275e+01,  5.35611413e+00],\n",
       "       [-1.52673862e+01,  1.95880631e+00],\n",
       "       [-1.09130443e+01, -9.10113911e+00],\n",
       "       [ 2.49474591e+01, -1.06276333e-01],\n",
       "       [ 5.37889573e+00,  2.32876841e+01],\n",
       "       [-3.81597806e+01, -1.35268062e+01],\n",
       "       [-2.63795339e+00, -3.74185548e+00],\n",
       "       [ 2.07032001e+01, -2.64412229e+01],\n",
       "       [-9.81980209e+00, -1.08867972e+01],\n",
       "       [-8.72720315e-01, -2.76566873e+01],\n",
       "       [ 2.76910555e+01, -2.65408300e+01],\n",
       "       [-1.56597285e+01, -1.79120095e+01],\n",
       "       [ 7.88066981e+00,  1.92053372e+01],\n",
       "       [ 3.07680632e+01,  4.53382582e+00],\n",
       "       [ 2.92973742e+01, -7.64319972e+00],\n",
       "       [-1.11846932e+01, -4.67694307e+01],\n",
       "       [-2.99000524e+00, -2.96053948e+01],\n",
       "       [ 4.06435366e+01,  2.78977810e+00]])"
      ]
     },
     "execution_count": 13,
     "metadata": {},
     "output_type": "execute_result"
    }
   ],
   "source": [
    "# Your code here:\n",
    "r = np.dot(std_cd, cd_pca.factors)\n",
    "r\n"
   ]
  },
  {
   "cell_type": "markdown",
   "metadata": {},
   "source": [
    "# Challenge 3 - Plotting the Data\n",
    "\n",
    "Now that we have reduced our cats and dogs arrays, we can easily plot the data in a way that the human eye can understand. We can look at this plot to see whether there are differences between the cat and dog images. \n",
    "\n",
    "In the cell below, turn the two dimensional projection into a pandas dataframe and name the columns `pc1`, and `pc2` respectively."
   ]
  },
  {
   "cell_type": "code",
   "execution_count": 17,
   "metadata": {},
   "outputs": [
    {
     "data": {
      "text/html": [
       "<div>\n",
       "<style scoped>\n",
       "    .dataframe tbody tr th:only-of-type {\n",
       "        vertical-align: middle;\n",
       "    }\n",
       "\n",
       "    .dataframe tbody tr th {\n",
       "        vertical-align: top;\n",
       "    }\n",
       "\n",
       "    .dataframe thead th {\n",
       "        text-align: right;\n",
       "    }\n",
       "</style>\n",
       "<table border=\"1\" class=\"dataframe\">\n",
       "  <thead>\n",
       "    <tr style=\"text-align: right;\">\n",
       "      <th></th>\n",
       "      <th>pc1</th>\n",
       "      <th>pc2</th>\n",
       "    </tr>\n",
       "  </thead>\n",
       "  <tbody>\n",
       "    <tr>\n",
       "      <th>0</th>\n",
       "      <td>-15.054035</td>\n",
       "      <td>13.672822</td>\n",
       "    </tr>\n",
       "    <tr>\n",
       "      <th>1</th>\n",
       "      <td>-41.400567</td>\n",
       "      <td>0.850120</td>\n",
       "    </tr>\n",
       "    <tr>\n",
       "      <th>2</th>\n",
       "      <td>70.137190</td>\n",
       "      <td>5.464748</td>\n",
       "    </tr>\n",
       "    <tr>\n",
       "      <th>3</th>\n",
       "      <td>26.662361</td>\n",
       "      <td>-0.868608</td>\n",
       "    </tr>\n",
       "    <tr>\n",
       "      <th>4</th>\n",
       "      <td>-26.237933</td>\n",
       "      <td>15.218803</td>\n",
       "    </tr>\n",
       "    <tr>\n",
       "      <th>...</th>\n",
       "      <td>...</td>\n",
       "      <td>...</td>\n",
       "    </tr>\n",
       "    <tr>\n",
       "      <th>155</th>\n",
       "      <td>30.768063</td>\n",
       "      <td>4.533826</td>\n",
       "    </tr>\n",
       "    <tr>\n",
       "      <th>156</th>\n",
       "      <td>29.297374</td>\n",
       "      <td>-7.643200</td>\n",
       "    </tr>\n",
       "    <tr>\n",
       "      <th>157</th>\n",
       "      <td>-11.184693</td>\n",
       "      <td>-46.769431</td>\n",
       "    </tr>\n",
       "    <tr>\n",
       "      <th>158</th>\n",
       "      <td>-2.990005</td>\n",
       "      <td>-29.605395</td>\n",
       "    </tr>\n",
       "    <tr>\n",
       "      <th>159</th>\n",
       "      <td>40.643537</td>\n",
       "      <td>2.789778</td>\n",
       "    </tr>\n",
       "  </tbody>\n",
       "</table>\n",
       "<p>160 rows × 2 columns</p>\n",
       "</div>"
      ],
      "text/plain": [
       "           pc1        pc2\n",
       "0   -15.054035  13.672822\n",
       "1   -41.400567   0.850120\n",
       "2    70.137190   5.464748\n",
       "3    26.662361  -0.868608\n",
       "4   -26.237933  15.218803\n",
       "..         ...        ...\n",
       "155  30.768063   4.533826\n",
       "156  29.297374  -7.643200\n",
       "157 -11.184693 -46.769431\n",
       "158  -2.990005 -29.605395\n",
       "159  40.643537   2.789778\n",
       "\n",
       "[160 rows x 2 columns]"
      ]
     },
     "execution_count": 17,
     "metadata": {},
     "output_type": "execute_result"
    }
   ],
   "source": [
    "# Your code here:\n",
    "df = pd.DataFrame(r, columns=['pc1', 'pc2'])\n",
    "df"
   ]
  },
  {
   "cell_type": "markdown",
   "metadata": {},
   "source": [
    "Create a labels list. This list will be of size 160. The first 80 elements in the list will be the word `blue`, and the last 80 elements will be `red`. This will ensure that all dog observations will be colored in blue and all cats will be colored in red. Name this list `colors`."
   ]
  },
  {
   "cell_type": "code",
   "execution_count": 22,
   "metadata": {
    "scrolled": true
   },
   "outputs": [
    {
     "data": {
      "text/plain": [
       "['blue',\n",
       " 'blue',\n",
       " 'blue',\n",
       " 'blue',\n",
       " 'blue',\n",
       " 'blue',\n",
       " 'blue',\n",
       " 'blue',\n",
       " 'blue',\n",
       " 'blue',\n",
       " 'blue',\n",
       " 'blue',\n",
       " 'blue',\n",
       " 'blue',\n",
       " 'blue',\n",
       " 'blue',\n",
       " 'blue',\n",
       " 'blue',\n",
       " 'blue',\n",
       " 'blue',\n",
       " 'blue',\n",
       " 'blue',\n",
       " 'blue',\n",
       " 'blue',\n",
       " 'blue',\n",
       " 'blue',\n",
       " 'blue',\n",
       " 'blue',\n",
       " 'blue',\n",
       " 'blue',\n",
       " 'blue',\n",
       " 'blue',\n",
       " 'blue',\n",
       " 'blue',\n",
       " 'blue',\n",
       " 'blue',\n",
       " 'blue',\n",
       " 'blue',\n",
       " 'blue',\n",
       " 'blue',\n",
       " 'blue',\n",
       " 'blue',\n",
       " 'blue',\n",
       " 'blue',\n",
       " 'blue',\n",
       " 'blue',\n",
       " 'blue',\n",
       " 'blue',\n",
       " 'blue',\n",
       " 'blue',\n",
       " 'blue',\n",
       " 'blue',\n",
       " 'blue',\n",
       " 'blue',\n",
       " 'blue',\n",
       " 'blue',\n",
       " 'blue',\n",
       " 'blue',\n",
       " 'blue',\n",
       " 'blue',\n",
       " 'blue',\n",
       " 'blue',\n",
       " 'blue',\n",
       " 'blue',\n",
       " 'blue',\n",
       " 'blue',\n",
       " 'blue',\n",
       " 'blue',\n",
       " 'blue',\n",
       " 'blue',\n",
       " 'blue',\n",
       " 'blue',\n",
       " 'blue',\n",
       " 'blue',\n",
       " 'blue',\n",
       " 'blue',\n",
       " 'blue',\n",
       " 'blue',\n",
       " 'blue',\n",
       " 'blue',\n",
       " 'red',\n",
       " 'red',\n",
       " 'red',\n",
       " 'red',\n",
       " 'red',\n",
       " 'red',\n",
       " 'red',\n",
       " 'red',\n",
       " 'red',\n",
       " 'red',\n",
       " 'red',\n",
       " 'red',\n",
       " 'red',\n",
       " 'red',\n",
       " 'red',\n",
       " 'red',\n",
       " 'red',\n",
       " 'red',\n",
       " 'red',\n",
       " 'red',\n",
       " 'red',\n",
       " 'red',\n",
       " 'red',\n",
       " 'red',\n",
       " 'red',\n",
       " 'red',\n",
       " 'red',\n",
       " 'red',\n",
       " 'red',\n",
       " 'red',\n",
       " 'red',\n",
       " 'red',\n",
       " 'red',\n",
       " 'red',\n",
       " 'red',\n",
       " 'red',\n",
       " 'red',\n",
       " 'red',\n",
       " 'red',\n",
       " 'red',\n",
       " 'red',\n",
       " 'red',\n",
       " 'red',\n",
       " 'red',\n",
       " 'red',\n",
       " 'red',\n",
       " 'red',\n",
       " 'red',\n",
       " 'red',\n",
       " 'red',\n",
       " 'red',\n",
       " 'red',\n",
       " 'red',\n",
       " 'red',\n",
       " 'red',\n",
       " 'red',\n",
       " 'red',\n",
       " 'red',\n",
       " 'red',\n",
       " 'red',\n",
       " 'red',\n",
       " 'red',\n",
       " 'red',\n",
       " 'red',\n",
       " 'red',\n",
       " 'red',\n",
       " 'red',\n",
       " 'red',\n",
       " 'red',\n",
       " 'red',\n",
       " 'red',\n",
       " 'red',\n",
       " 'red',\n",
       " 'red',\n",
       " 'red',\n",
       " 'red',\n",
       " 'red',\n",
       " 'red',\n",
       " 'red',\n",
       " 'red']"
      ]
     },
     "execution_count": 22,
     "metadata": {},
     "output_type": "execute_result"
    }
   ],
   "source": [
    "# Your code here:\n",
    "colors = ['blue']*80+['red']*80\n",
    "colors"
   ]
  },
  {
   "cell_type": "markdown",
   "metadata": {},
   "source": [
    "Create a scatter plot of `pc1` and `pc2` below. Use the `colors` list above to color the observations by setting `c=colors`."
   ]
  },
  {
   "cell_type": "code",
   "execution_count": 25,
   "metadata": {},
   "outputs": [
    {
     "data": {
      "text/plain": [
       "<matplotlib.collections.PathCollection at 0x1140eeb50>"
      ]
     },
     "execution_count": 25,
     "metadata": {},
     "output_type": "execute_result"
    },
    {
     "data": {
      "image/png": "[encoded data removed]",
      "text/plain": [
       "<Figure size 432x288 with 1 Axes>"
      ]
     },
     "metadata": {
      "needs_background": "light"
     },
     "output_type": "display_data"
    }
   ],
   "source": [
    "# Your code here:\n",
    "plt.scatter(df.pc1, df.pc2, c=colors)\n"
   ]
  },
  {
   "cell_type": "markdown",
   "metadata": {},
   "source": [
    "Do you see a clear separation between cats and dogs? Write your answer below."
   ]
  },
  {
   "cell_type": "code",
   "execution_count": null,
   "metadata": {},
   "outputs": [],
   "source": [
    "# Your conclusions here:\n",
    "'''Podemos observar zonas donde predominan más puntos de color azul frente a otras zonas\n",
    "donde el color rojo tiene una presencia más marcada'''\n"
   ]
  },
  {
   "cell_type": "code",
   "execution_count": null,
   "metadata": {},
   "outputs": [],
   "source": []
  }
 ],
 "metadata": {
  "hide_input": false,
  "kernelspec": {
   "display_name": "Python 3",
   "language": "python",
   "name": "python3"
  },
  "language_info": {
   "codemirror_mode": {
    "name": "ipython",
    "version": 3
   },
   "file_extension": ".py",
   "mimetype": "text/x-python",
   "name": "python",
   "nbconvert_exporter": "python",
   "pygments_lexer": "ipython3",
   "version": "3.8.1"
  },
  "toc": {
   "base_numbering": 1,
   "nav_menu": {},
   "number_sections": true,
   "sideBar": true,
   "skip_h1_title": false,
   "title_cell": "Table of Contents",
   "title_sidebar": "Contents",
   "toc_cell": false,
   "toc_position": {},
   "toc_section_display": true,
   "toc_window_display": false
  }
 },
 "nbformat": 4,
 "nbformat_minor": 2
}
